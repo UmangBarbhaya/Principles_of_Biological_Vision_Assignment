{
  "nbformat": 4,
  "nbformat_minor": 0,
  "metadata": {
    "colab": {
      "name": "PBV_Assignment-2_M20CS017.ipynb",
      "provenance": []
    },
    "kernelspec": {
      "name": "python3",
      "display_name": "Python 3"
    },
    "language_info": {
      "name": "python"
    }
  },
  "cells": [
    {
      "cell_type": "code",
      "metadata": {
        "colab": {
          "base_uri": "https://localhost:8080/"
        },
        "id": "abfAsJ0DI4_0",
        "outputId": "f4ae0dda-98a5-45b6-b22e-f9d288cfbd7d"
      },
      "source": [
        "#Importing the required packages\n",
        "import math\n",
        "!pip install pomegranate\n",
        "!apt install libgraphviz-dev\n",
        "!pip install pygraphviz\n",
        "from pomegranate import *"
      ],
      "execution_count": null,
      "outputs": [
        {
          "output_type": "stream",
          "name": "stdout",
          "text": [
            "Requirement already satisfied: pomegranate in /usr/local/lib/python3.7/dist-packages (0.14.5)\n",
            "Requirement already satisfied: numpy>=1.20.0 in /usr/local/lib/python3.7/dist-packages (from pomegranate) (1.21.2)\n",
            "Requirement already satisfied: pyyaml in /usr/local/lib/python3.7/dist-packages (from pomegranate) (3.13)\n",
            "Requirement already satisfied: scipy>=0.17.0 in /usr/local/lib/python3.7/dist-packages (from pomegranate) (1.4.1)\n",
            "Requirement already satisfied: joblib>=0.9.0b4 in /usr/local/lib/python3.7/dist-packages (from pomegranate) (1.0.1)\n",
            "Requirement already satisfied: networkx>=2.4 in /usr/local/lib/python3.7/dist-packages (from pomegranate) (2.6.2)\n",
            "Reading package lists... Done\n",
            "Building dependency tree       \n",
            "Reading state information... Done\n",
            "libgraphviz-dev is already the newest version (2.40.1-2).\n",
            "0 upgraded, 0 newly installed, 0 to remove and 40 not upgraded.\n",
            "Requirement already satisfied: pygraphviz in /usr/local/lib/python3.7/dist-packages (1.7)\n"
          ]
        }
      ]
    },
    {
      "cell_type": "markdown",
      "metadata": {
        "id": "EHoUb5loJ2rz"
      },
      "source": [
        "1.Set prior probabilities for places as P(T) = P(K) = 0.5 and those for the seasons as P(A) = P(S) = 0.5. The equi-probable states mean that we do not know at which place we are, and which season we are in. Compute the prior probabilities for and determine the most likely fruit, color and shape."
      ]
    },
    {
      "cell_type": "code",
      "metadata": {
        "colab": {
          "base_uri": "https://localhost:8080/",
          "height": 265
        },
        "id": "njKw5yAgHw0F",
        "outputId": "ecc47fb6-b352-41fb-a190-56b56d28b346"
      },
      "source": [
        "# Set prior probabilities for places as P(T) = P(K) = 0.5 \n",
        "Place =DiscreteDistribution( {  'Kashmir': 0.5, 'TamilNadu': 0.5 } )\n",
        " \n",
        "# Set prior probabilities for seasons as P(A) = P(S) = 0.5\n",
        "Season =DiscreteDistribution( { 'Autumn': 0.5, 'Spring': 0.5 } )\n",
        " \n",
        "#CPT for Fruit\n",
        "Fruit =ConditionalProbabilityTable(\n",
        "[[ 'TamilNadu', 'Autumn', 'Apple', 0.3 ],\n",
        "[ 'TamilNadu', 'Autumn', 'Banana', 0.7 ],\n",
        "[ 'TamilNadu', 'Spring', 'Apple', 0.1 ],\n",
        "[ 'TamilNadu', 'Spring', 'Banana', 0.9 ],\n",
        "[ 'Kashmir', 'Autumn', 'Apple', 0.8 ],\n",
        "[ 'Kashmir', 'Autumn', 'Banana', 0.2 ],\n",
        "[ 'Kashmir', 'Spring', 'Apple', 0.4 ],\n",
        "[ 'Kashmir', 'Spring', 'Banana', 0.6]], [Place, Season])\n",
        "\n",
        "#CPT for Color\n",
        "Color = ConditionalProbabilityTable(\n",
        "[['Banana', 'Red', 0.1],\n",
        "['Banana', 'Green', 0.4],\n",
        "['Banana', 'Yellow', 0.5],\n",
        "['Apple', 'Red', 0.6],\n",
        "['Apple', 'Green', 0.2],\n",
        "['Apple', 'Yellow', 0.2]], [Fruit])\n",
        "\n",
        "#CPT for Shape\n",
        "Shape = ConditionalProbabilityTable(\n",
        "[['Banana', 'Round', 0.1],\n",
        "['Banana', 'Long', 0.9],\n",
        "['Apple', 'Round', 0.8],\n",
        "['Apple', 'Long', 0.2]], [Fruit])\n",
        " \n",
        " #Creating the States for Bayesian Network\n",
        "d1 = State( Place, name=\"Place\" )\n",
        "d2 = State( Season, name=\"Season\" )\n",
        "d3 = State( Fruit, name=\"Fruit\" )\n",
        "d4 = State(Color, name='Color')\n",
        "d5 = State(Shape, name='Shape')\n",
        "\n",
        "#Building the Bayesian Network\n",
        "network = BayesianNetwork( \"Fruits Problem With Bayesian Networks\" )\n",
        "network.add_states(d1, d2, d3, d4, d5)\n",
        "network.add_edge(d1, d3)\n",
        "network.add_edge(d2, d3)\n",
        "network.add_edge(d3, d4)\n",
        "network.add_edge(d3, d5)\n",
        "network.bake()\n",
        "\n",
        "#Bayesian Network Structure\n",
        "print(network.structure)\n",
        "\n",
        "#Bayesian Network Plot\n",
        "network.plot()"
      ],
      "execution_count": null,
      "outputs": [
        {
          "output_type": "stream",
          "name": "stdout",
          "text": [
            "((), (), (0, 1), (2,), (2,))\n"
          ]
        },
        {
          "output_type": "display_data",
          "data": {
            "image/png": "[encoded data removed]",
            "text/plain": [
              "<Figure size 432x288 with 1 Axes>"
            ]
          },
          "metadata": {
            "needs_background": "light"
          }
        }
      ]
    },
    {
      "cell_type": "code",
      "metadata": {
        "id": "qZgWWRZmp_qW"
      },
      "source": [
        "#initializing the values\n",
        "P_Kashmir=0\n",
        "P_TamilNadu=0\n",
        "P_Autumn=0\n",
        "P_Spring=0\n",
        "P_Apple=0\n",
        "P_Banana=0\n",
        "P_Red=0\n",
        "P_Green=0\n",
        "P_Yellow=0\n",
        "P_Round=0\n",
        "P_Long=0\n",
        "def priorMarginalProb( places, seasons, fruits, colors, shapes):\n",
        "  probabilityValues = network.predict_proba([[places, seasons, fruits, colors, shapes]]) #calculates the posterior probabilities\n",
        "  #initializing the values\n",
        "  P_Kashmir=0\n",
        "  P_TamilNadu=0\n",
        "  P_Autumn=0\n",
        "  P_Spring=0\n",
        "  P_Apple=0\n",
        "  P_Banana=0\n",
        "  P_Red=0\n",
        "  P_Green=0\n",
        "  P_Yellow=0\n",
        "  P_Round=0\n",
        "  P_Long=0\n",
        "  #if we are assuming any state like given kashmir, then set its probability value as 1 else calculate its value\n",
        "  #checking for Places\n",
        "  if places==None:\n",
        "    placeProb=json.loads(str(probabilityValues[0][0]))[\"parameters\"][0]\n",
        "    P_Kashmir=round(placeProb['Kashmir'],2)\n",
        "    P_TamilNadu=round(placeProb['TamilNadu'],2)\n",
        "  elif places=='Kashmir':\n",
        "    P_Kashmir=1\n",
        "  elif places=='TamilNadu':\n",
        "    P_TamilNadu=1\n",
        "\n",
        "#checking for seasons\n",
        "  if seasons==None:\n",
        "    seasonProb=json.loads(str(probabilityValues[0][1]))[\"parameters\"][0]\n",
        "    P_Autumn=round(seasonProb['Autumn'],2)\n",
        "    P_Spring=round(seasonProb['Spring'],2)\n",
        "  elif seasons=='Autumn':\n",
        "    P_Autumn=1\n",
        "  elif seasons=='Spring':\n",
        "    P_Spring=1\n",
        "\n",
        "#checking for fruits\n",
        "  if fruits==None:\n",
        "    fruitsProb=json.loads(str(probabilityValues[0][2]))[\"parameters\"][0]\n",
        "    P_Apple=round(fruitsProb['Apple'],2)\n",
        "    P_Banana=round(fruitsProb['Banana'],2)\n",
        "  elif fruits=='Apple':\n",
        "    P_Apple=1\n",
        "  elif fruits=='Banana':\n",
        "    P_Banana=1\n",
        "\n",
        "#checking for colors\n",
        "  if colors==None:\n",
        "    colorProb=json.loads(str(probabilityValues[0][3]))[\"parameters\"][0]\n",
        "    P_Red=round(colorProb['Red'],2)\n",
        "    P_Green=round(colorProb['Green'],2)\n",
        "    P_Yellow=round(colorProb['Yellow'],2)\n",
        "  elif colors=='Red':\n",
        "    P_Red=1\n",
        "  elif colors=='Green':\n",
        "    P_Green=1\n",
        "  elif colors=='Yellow':\n",
        "    P_Yellow=1\n",
        "\n",
        "#checking for shapes\n",
        "  if shapes==None:\n",
        "    shapeProb=json.loads(str(probabilityValues[0][4]))[\"parameters\"][0]\n",
        "    P_Round=round(shapeProb['Round'],2)\n",
        "    P_Long=round(shapeProb['Long'],2)\n",
        "  elif shapes=='Round':\n",
        "    P_Round=1\n",
        "  elif shapes=='Long':\n",
        "    P_Long=1\n",
        "  \n",
        "  \n",
        "  # Printing the values\n",
        "  print(\"P(Kashmir): \"+str(P_Kashmir))\n",
        "  print(\"P(TamilNadu): \"+str(P_TamilNadu))\n",
        "  print()\n",
        "  print(\"P(Autumn): \"+str(P_Autumn))\n",
        "  print(\"P(Spring): \"+str(P_Spring))\n",
        "  print()\n",
        "  print(\"P(Apple): \"+str(P_Apple))\n",
        "  print(\"P(Banana): \"+str(P_Banana))\n",
        "  print()\n",
        "  print(\"P(Red): \"+str(P_Red))\n",
        "  print(\"P(Green): \"+str(P_Green))\n",
        "  print(\"P(Yellow): \"+str(P_Yellow))\n",
        "  print()\n",
        "  print(\"P(Round): \"+str(P_Round))\n",
        "  print(\"P(Long): \"+str(P_Long))\n",
        "  print()"
      ],
      "execution_count": null,
      "outputs": []
    },
    {
      "cell_type": "code",
      "metadata": {
        "id": "EVXIKCpv0xrf"
      },
      "source": [
        "def mostLikely( places, seasons, fruits, colors, shapes): #function to create most likely\n",
        "  return network.predict([[places, seasons, fruits, colors, shapes]])[0] #predict function gives the most likely value"
      ],
      "execution_count": null,
      "outputs": []
    },
    {
      "cell_type": "code",
      "metadata": {
        "colab": {
          "base_uri": "https://localhost:8080/"
        },
        "id": "kJvyh6lN6bXn",
        "outputId": "2a61b932-5c96-4975-b7d8-3267deac6cf3"
      },
      "source": [
        "priorMarginalProb(None,None,None,None,None) #"
      ],
      "execution_count": null,
      "outputs": [
        {
          "output_type": "stream",
          "name": "stdout",
          "text": [
            "P(Kashmir): 0.5\n",
            "P(TamilNadu): 0.5\n",
            "\n",
            "P(Autumn): 0.5\n",
            "P(Spring): 0.5\n",
            "\n",
            "P(Apple): 0.4\n",
            "P(Banana): 0.6\n",
            "\n",
            "P(Red): 0.3\n",
            "P(Green): 0.32\n",
            "P(Yellow): 0.38\n",
            "\n",
            "P(Round): 0.38\n",
            "P(Long): 0.62\n",
            "\n"
          ]
        }
      ]
    },
    {
      "cell_type": "code",
      "metadata": {
        "colab": {
          "base_uri": "https://localhost:8080/"
        },
        "id": "7JuAEXbR6xMX",
        "outputId": "e62e9675-480f-42fd-b1fa-145a715efdb6"
      },
      "source": [
        "List = mostLikely(None,None,None,None,None)\n",
        "print(\"Most Likely Fruit: \"+ List[2])\n",
        "print(\"Most Likely Color: \"+ List[3])\n",
        "print(\"Most Likely Shape: \"+ List[4])"
      ],
      "execution_count": null,
      "outputs": [
        {
          "output_type": "stream",
          "name": "stdout",
          "text": [
            "Most Likely Fruit: Banana\n",
            "Most Likely Color: Yellow\n",
            "Most Likely Shape: Long\n"
          ]
        }
      ]
    },
    {
      "cell_type": "markdown",
      "metadata": {
        "id": "xdlv4Ctr61Vs"
      },
      "source": [
        "2. Now assume that you are in Kashmir. Instantiate the “place” node accordingly (set appropriate probability values). Compute the posterior probabilities"
      ]
    },
    {
      "cell_type": "code",
      "metadata": {
        "colab": {
          "base_uri": "https://localhost:8080/"
        },
        "id": "5c3kUxQJ68BB",
        "outputId": "e3d564c5-e84a-4e65-e2dd-931213b2a1d9"
      },
      "source": [
        "priorMarginalProb('Kashmir',None,None,None,None) #Assuming we are in Kashmir P(Kashmir)=1 , P(TamilNadu)=0"
      ],
      "execution_count": null,
      "outputs": [
        {
          "output_type": "stream",
          "name": "stdout",
          "text": [
            "P(Kashmir): 1\n",
            "P(TamilNadu): 0\n",
            "\n",
            "P(Autumn): 0.5\n",
            "P(Spring): 0.5\n",
            "\n",
            "P(Apple): 0.6\n",
            "P(Banana): 0.4\n",
            "\n",
            "P(Red): 0.4\n",
            "P(Green): 0.28\n",
            "P(Yellow): 0.32\n",
            "\n",
            "P(Round): 0.52\n",
            "P(Long): 0.48\n",
            "\n"
          ]
        }
      ]
    },
    {
      "cell_type": "markdown",
      "metadata": {
        "id": "VzGHPSY67HS1"
      },
      "source": [
        "3. Hand compute results of steps 1 and 2 and compare to verify the Bayesian network is correctly implemented.\n",
        "Solution: Given in Report"
      ]
    },
    {
      "cell_type": "markdown",
      "metadata": {
        "id": "TRygxU-h7L95"
      },
      "source": [
        "4. Check the states of the various nodes. Has any one remained unchanged?  Explain why.\n",
        "Solution: Given in Report"
      ]
    },
    {
      "cell_type": "markdown",
      "metadata": {
        "id": "PMqH4BUf7RJS"
      },
      "source": [
        "5. Further (keep the “Kashmir” assumption), assume that you are observing a yellow fruit, round in shape. Instantiate the color and the shape nodes accordingly and compute the posterior probabilities of the unobserved nodes in the network. \n"
      ]
    },
    {
      "cell_type": "code",
      "metadata": {
        "colab": {
          "base_uri": "https://localhost:8080/"
        },
        "id": "RcXdT-gj7WVi",
        "outputId": "e6c9b46f-3072-48e6-8562-87cfd4797c6c"
      },
      "source": [
        "priorMarginalProb('Kashmir',None,None,'Yellow','Round')#Assuming Place: Kashmir P(Kashmir)=1 , Color: Yellow P(Yellow)=1, Shape: Round P(Round)=1"
      ],
      "execution_count": null,
      "outputs": [
        {
          "output_type": "stream",
          "name": "stdout",
          "text": [
            "P(Kashmir): 1\n",
            "P(TamilNadu): 0\n",
            "\n",
            "P(Autumn): 0.59\n",
            "P(Spring): 0.41\n",
            "\n",
            "P(Apple): 0.83\n",
            "P(Banana): 0.17\n",
            "\n",
            "P(Red): 0\n",
            "P(Green): 0\n",
            "P(Yellow): 1\n",
            "\n",
            "P(Round): 1\n",
            "P(Long): 0\n",
            "\n"
          ]
        }
      ]
    },
    {
      "cell_type": "markdown",
      "metadata": {
        "id": "lflFJaEV7lxK"
      },
      "source": [
        "6. What is the most likely fruit and the most likely season you are in?\n"
      ]
    },
    {
      "cell_type": "code",
      "metadata": {
        "colab": {
          "base_uri": "https://localhost:8080/"
        },
        "id": "NWJv1bX97no5",
        "outputId": "645821a7-756b-47d2-c843-d5edaffb45ea"
      },
      "source": [
        "List = mostLikely('Kashmir',None,None,'Yellow','Round')\n",
        "print(\"Most Likely Fruit: \"+ List[2])\n",
        "print(\"Most Likely Season: \"+ List[1])"
      ],
      "execution_count": null,
      "outputs": [
        {
          "output_type": "stream",
          "name": "stdout",
          "text": [
            "Most Likely Fruit: Apple\n",
            "Most Likely Season: Autumn\n"
          ]
        }
      ]
    }
  ]
}